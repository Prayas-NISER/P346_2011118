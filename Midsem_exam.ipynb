{
 "cells": [
  {
   "cell_type": "code",
   "execution_count": 2,
   "id": "8d547289",
   "metadata": {},
   "outputs": [],
   "source": [
    "import Library.pRNG as Random\n",
    "import Library.Read_matrix as Read\n",
    "import Library.Root_finder as Root\n",
    "import Library.Linear_eqsolver as Solve"
   ]
  },
  {
   "cell_type": "code",
   "execution_count": 5,
   "id": "17aeabbc",
   "metadata": {},
   "outputs": [
    {
     "name": "stdout",
     "output_type": "stream",
     "text": [
      "Total area of the ellipse =  6.28184 ~ 2π = πab\n"
     ]
    }
   ],
   "source": [
    "n = 100000\n",
    "x = Random.Random_to(3,n,2)\n",
    "y = Random.Random_to(5,n,1)\n",
    "\n",
    "count = 0\n",
    "trial = 0\n",
    "for i in range (0, n):\n",
    "  p = (x[i]**2)/4 + (y[i]**2)\n",
    "  if p <= 1:\n",
    "    count = count + 1\n",
    "    trial = trial + 1\n",
    "  else:\n",
    "    trial = trial + 1\n",
    "\n",
    "area_quadrant = (count/trial)*2   #Area of 1 quadrant = 2 sq. units \n",
    "total_area = 4*area_quadrant\n",
    "print(\"Total area of the ellipse = \", total_area, \"~ 2\\u03C0 = \\u03C0ab\")"
   ]
  },
  {
   "cell_type": "code",
   "execution_count": 7,
   "id": "75f7e730",
   "metadata": {},
   "outputs": [
    {
     "data": {
      "image/png": "[encoded data removed]",
      "text/plain": [
       "<Figure size 432x288 with 1 Axes>"
      ]
     },
     "metadata": {
      "needs_background": "light"
     },
     "output_type": "display_data"
    },
    {
     "name": "stdout",
     "output_type": "stream",
     "text": [
      "Value of Wein's constant = 2.899 * 10^(-3)\n"
     ]
    }
   ],
   "source": [
    "import math\n",
    "import matplotlib.pyplot as plt\n",
    "f = lambda x: (x-5)*math.exp(x) + 5\n",
    "# Finding solution with Newton_Raphson method with inital guess = 4.5\n",
    "solution = Root.Newton_Raphson(f,4.5)\n",
    "\n",
    "# Plotting the curve of the function to verify the root\n",
    "x = []\n",
    "y = []\n",
    "i = -0.5\n",
    "while i <= 5.5:\n",
    "  y0 = (i-5)*math.exp(i) + 5\n",
    "  y.append(y0)\n",
    "  x0 = i\n",
    "  x.append(x0)\n",
    "  i += 0.01\n",
    "plt.plot(x, y)\n",
    "plt.title(\"Graph of the given function\")\n",
    "plt.grid(True)\n",
    "plt.plot([min(x),max(x)],[0,0])\n",
    "plt.plot([solution,solution], [max(y),min(y)])\n",
    "plt.show()\n",
    "\n",
    "# Calculating value of Wein's constant\n",
    "b = (6.626e-34 * 3e8)/(1.381e-23 * solution)\n",
    "print(\"Value of Wein's constant =\", round(b*1000,4),\"* 10^(-3)\")"
   ]
  },
  {
   "cell_type": "code",
   "execution_count": 9,
   "id": "49ab912b",
   "metadata": {},
   "outputs": [
    {
     "name": "stdout",
     "output_type": "stream",
     "text": [
      "The solutions are calculated by using Gauss-Seidel method (with precision = 10^-6)\n",
      "Entered precision level reached with no. of iterations: 13\n",
      "The solutions are given respectively as:\n",
      "1.4999998297596437\n",
      "-0.4999999999999992\n",
      "1.9999999999999998\n",
      "-2.4999999148640373\n",
      "1.0000000000000004\n",
      "-0.9999999999957907\n"
     ]
    }
   ],
   "source": [
    "# Reading the matrices from the input file\n",
    "A = Read.read_Mat(r\"Midsem Input files/msem_gs_A.txt\")\n",
    "B = Read.read_Mat(r\"Midsem Input files/msem_gs_B.txt\")\n",
    "\n",
    "# Solving the system of equations using Gauss-Seidel iterative method\n",
    "print(\"The solutions are calculated by using Gauss-Seidel method (with precision = 10^-6)\")\n",
    "Solve.Gauss_Seidel_eqsolver(A, B, 1e-6)"
   ]
  }
 ],
 "metadata": {
  "kernelspec": {
   "display_name": "Python 3 (ipykernel)",
   "language": "python",
   "name": "python3"
  },
  "language_info": {
   "codemirror_mode": {
    "name": "ipython",
    "version": 3
   },
   "file_extension": ".py",
   "mimetype": "text/x-python",
   "name": "python",
   "nbconvert_exporter": "python",
   "pygments_lexer": "ipython3",
   "version": "3.9.12"
  }
 },
 "nbformat": 4,
 "nbformat_minor": 5
}
