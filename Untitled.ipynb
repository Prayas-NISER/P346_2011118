{
 "cells": [
  {
   "cell_type": "code",
   "execution_count": 1,
   "id": "ff8513c2",
   "metadata": {},
   "outputs": [],
   "source": [
    "import Library.pRNG as Random\n",
    "import Library.Root_finder as Root"
   ]
  },
  {
   "cell_type": "code",
   "execution_count": 13,
   "id": "a5efc755",
   "metadata": {},
   "outputs": [
    {
     "name": "stdout",
     "output_type": "stream",
     "text": [
      "Area of the ellipse =  0.00012414981971478338\n"
     ]
    }
   ],
   "source": [
    "n = 1000\n",
    "x = Random.Random_bw(2,n,2)\n",
    "y = Random.Random_bw(3,n,1)\n",
    "\n",
    "count = 0\n",
    "trail = 0\n",
    "for i in range (0, n):\n",
    "  p = (x[i]**2)/4 + (y[i]**2)\n",
    "  if p <= 1:\n",
    "    count = count + 1\n",
    "    trial = trial + 1\n",
    "  else:\n",
    "    trial = trial + 1\n",
    "\n",
    "area = (count/trial)*8\n",
    "print(\"Area of the ellipse = \", area)"
   ]
  },
  {
   "cell_type": "code",
   "execution_count": 3,
   "id": "4ee56530",
   "metadata": {},
   "outputs": [
    {
     "data": {
      "image/png": "[encoded data removed]",
      "text/plain": [
       "<Figure size 432x288 with 1 Axes>"
      ]
     },
     "metadata": {
      "needs_background": "light"
     },
     "output_type": "display_data"
    },
    {
     "name": "stdout",
     "output_type": "stream",
     "text": [
      "Value of Wein's constant = 0.0028990103307382636\n"
     ]
    }
   ],
   "source": [
    "import math\n",
    "import matplotlib.pyplot as plt\n",
    "f = lambda x: (x-5)*math.exp(x) + 5\n",
    "# Finding solution with Newton_Raphson method\n",
    "solution = Root.Newton_Raphson(f,4.5)\n",
    "\n",
    "x = []\n",
    "y = []\n",
    "i = -0.5\n",
    "while i <= 5.5:\n",
    "  y0 = (i-5)*math.exp(i) + 5\n",
    "  y.append(y0)\n",
    "  x0 = i\n",
    "  x.append(x0)\n",
    "  i += 0.01\n",
    "plt.plot(x, y)\n",
    "plt.title(\"Graph of given function in x\")\n",
    "plt.grid(True)\n",
    "plt.plot([min(x),max(x)],[0,0])\n",
    "plt.show()\n",
    "\n",
    "# Calculating value of Wein's constant\n",
    "b = (6.626e-34 * 3e8)/(1.381e-23 * solution)\n",
    "print(\"Value of Wein's constant =\", b)"
   ]
  },
  {
   "cell_type": "code",
   "execution_count": null,
   "id": "bb87d9a3",
   "metadata": {},
   "outputs": [],
   "source": []
  }
 ],
 "metadata": {
  "kernelspec": {
   "display_name": "Python 3 (ipykernel)",
   "language": "python",
   "name": "python3"
  },
  "language_info": {
   "codemirror_mode": {
    "name": "ipython",
    "version": 3
   },
   "file_extension": ".py",
   "mimetype": "text/x-python",
   "name": "python",
   "nbconvert_exporter": "python",
   "pygments_lexer": "ipython3",
   "version": "3.9.12"
  }
 },
 "nbformat": 4,
 "nbformat_minor": 5
}
