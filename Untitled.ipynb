{
 "cells": [
  {
   "cell_type": "code",
   "execution_count": 24,
   "id": "e1690847",
   "metadata": {},
   "outputs": [
    {
     "data": {
      "text/plain": [
       "3.6553578687112"
      ]
     },
     "execution_count": 24,
     "metadata": {},
     "output_type": "execute_result"
    }
   ],
   "source": [
    "from math import *\n",
    "# Midpoint method\n",
    "def Midpoint_int(f,a,b,N):\n",
    "    h = float((b-a)/N)\n",
    "    value = 0\n",
    "    for i in range(N): \n",
    "        value += f((a + h/2) + i*h)\n",
    "    ans = h*value\n",
    "    return ans\n",
    "\n",
    "#Trapezoidal method\n",
    "def Trapezoid_int(f,a,b,N):\n",
    "    h = float((b-a)/N)\n",
    "    value = 0\n",
    "    for i in range(N):      \n",
    "        value += f(a+i*h) +  f(a+(i+1)*h)\n",
    "    ans = h*value/2\n",
    "    return ans\n",
    "\n",
    "#Simpson method\n",
    "def Simpson_int(f,a,b,N):\n",
    "    s = f(a) + f(b)\n",
    "    h = float((b-a)/N)\n",
    "\n",
    "    for i in range(1,N):\n",
    "        if i%2 != 0:\n",
    "            s += 4*f(a+i*h)\n",
    "        else:\n",
    "            s += 2*f(a+i*h)\n",
    "    ans = s*h/3\n",
    "    return ans\n",
    "\n",
    "# Monte Carlo method\n",
    "def MonteCarlo_int(f,a,b,N):\n",
    "    import Library.pRNG as Random\n",
    "    r = Random.LCG(2,N)\n",
    "    integral = 0\n",
    "    val = 0\n",
    "    for i in range(N):\n",
    "        x = a + (b-a)*r[i]\n",
    "        val += f(x)\n",
    "    integral = float(((b-a)*val)/N)    \n",
    "    return integral\n",
    "\n",
    "\n",
    "\n",
    "f = lambda x: sqrt(1+(1/x))\n",
    "\n",
    "\n",
    "\n"
   ]
  },
  {
   "cell_type": "code",
   "execution_count": null,
   "id": "f0019772",
   "metadata": {},
   "outputs": [],
   "source": []
  },
  {
   "cell_type": "code",
   "execution_count": null,
   "id": "e1ad0f5a",
   "metadata": {},
   "outputs": [],
   "source": []
  }
 ],
 "metadata": {
  "kernelspec": {
   "display_name": "Python 3 (ipykernel)",
   "language": "python",
   "name": "python3"
  },
  "language_info": {
   "codemirror_mode": {
    "name": "ipython",
    "version": 3
   },
   "file_extension": ".py",
   "mimetype": "text/x-python",
   "name": "python",
   "nbconvert_exporter": "python",
   "pygments_lexer": "ipython3",
   "version": "3.9.12"
  }
 },
 "nbformat": 4,
 "nbformat_minor": 5
}
