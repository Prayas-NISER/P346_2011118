{
  "nbformat": 4,
  "nbformat_minor": 0,
  "metadata": {
    "colab": {
      "name": "P346_Assignment 1_2011118.ipynb",
      "provenance": [],
      "collapsed_sections": []
    },
    "kernelspec": {
      "name": "python3",
      "display_name": "Python 3"
    },
    "language_info": {
      "name": "python"
    }
  },
  "cells": [
    {
      "cell_type": "markdown",
      "source": [
        "## **1. Sum of first N odd numbers and factorial of N**"
      ],
      "metadata": {
        "id": "1frpF0Li74Vp"
      }
    },
    {
      "cell_type": "code",
      "execution_count": null,
      "metadata": {
        "colab": {
          "base_uri": "https://localhost:8080/"
        },
        "id": "e30cAEPlxPSm",
        "outputId": "8de1882e-aca7-46e4-9829-1566eaf0afa0"
      },
      "outputs": [
        {
          "output_type": "stream",
          "name": "stdout",
          "text": [
            "The sum of first 9 odd numbers is 81\n",
            "The sum of first 15 odd numbers is 225\n",
            "The sum of first 21 odd numbers is 441\n",
            " \n",
            "The factorial of 5 is 120\n",
            "The factorial of 8 is 40320\n",
            "The factorial of 11 is 39916800\n"
          ]
        }
      ],
      "source": [
        "\"Defining a function to compute sum of first N odd numbers\"\n",
        "def sum_odd(N: int):\n",
        "  i = 1\n",
        "  sum = 0\n",
        "  x = 2*N - 1\n",
        "  while i <= x:\n",
        "    sum = sum + i\n",
        "    i = i + 2\n",
        "  print(\"The sum of first\", N, \"odd numbers is\", sum)\n",
        "\n",
        "\n",
        "\"Defining a function to compute factorial of N\"\n",
        "def factorial(N: int):\n",
        "  fact = 1\n",
        "  j = N\n",
        "  while j >= 1:\n",
        "    fact = fact * j\n",
        "    j = j - 1\n",
        "  print(\"The factorial of\", N, \"is\", fact)\n",
        "\n",
        "sum_odd(9)\n",
        "sum_odd(15)\n",
        "sum_odd(21)\n",
        "print(' ')\n",
        "factorial(5)\n",
        "factorial(8)\n",
        "factorial(11)\n",
        "\n",
        "\n",
        "\n",
        "#OUTPUT\n",
        "#The sum of first 9 odd numbers is 81\n",
        "#The sum of first 15 odd numbers is 225\n",
        "#The sum of first 21 odd numbers is 441\n",
        " \n",
        "#The factorial of 5 is 120\n",
        "#The factorial of 8 is 40320\n",
        "#The factorial of 11 is 39916800"
      ]
    },
    {
      "cell_type": "markdown",
      "source": [
        "## **2. Sum of first N terms of an AP, GP and HP**"
      ],
      "metadata": {
        "id": "tnksLNZE8RHD"
      }
    },
    {
      "cell_type": "code",
      "source": [
        "\"Defining a function to compute sum of first N terms of an AP with common difference 1.5\"\n",
        "def sum_AP(a: float, N: int):\n",
        "  AP_sum = float(0)\n",
        "  i = a\n",
        "  d = 1.5\n",
        "  x = float(a+(N-1)*d)\n",
        "  while i <= x:\n",
        "    AP_sum += i\n",
        "    i += d\n",
        "  print(\"Sum of first\", N, \"terms of an AP with first term\", a, \"and common difference\", d, \"is\", AP_sum)\n",
        "\n",
        "\n",
        "\"Defining a function to compute sum of first N terms of a GP with common ratio 0.5\"\n",
        "def sum_GP(a: float, N: int):\n",
        "  GP_sum = float(0)\n",
        "  i = a\n",
        "  r = 0.5\n",
        "  x = float(a*(r**(N-1)))\n",
        "  while i >= x:\n",
        "    GP_sum += i\n",
        "    i = i*r\n",
        "  print(\"Sum of first\", N, \"terms of a GP with first term\", a, \"and common ratio\", r, \"is\", GP_sum)\n",
        "\n",
        "\n",
        "\"Defining a function to compute sum of first N terms of a HP with common difference 1.5\"\n",
        "def sum_HP(a: float, N: int):\n",
        "  HP_sum = float(0)\n",
        "  i = float(1/a)\n",
        "  d = 1.5\n",
        "  M = 1\n",
        "  x = float(1/(a+(N-1)*d))\n",
        "  while i >= x:\n",
        "    HP_sum += i\n",
        "    M += 1\n",
        "    i = (1/(a+(M-1)*d))\n",
        "  print(\"Sum of first\", N, \"terms of a HP with first term\", a, \"and common difference\", d, \"is\", HP_sum)\n",
        "\n",
        "\n",
        "sum_AP(3.4, 8)\n",
        "sum_AP(6.7, 10)\n",
        "print(' ')\n",
        "sum_GP(8.5, 7)\n",
        "sum_GP(17.4, 9)\n",
        "print(' ')\n",
        "sum_HP(9.6, 7)\n",
        "sum_HP(14.5, 8)\n",
        "\n",
        "\n",
        "\n",
        "\"OUTPUT\"\n",
        "#Sum of first 8 terms of an AP with first term 3.4 and common difference 1.5 is 69.2\n",
        "#Sum of first 10 terms of an AP with first term 6.7 and common difference 1.5 is 134.5\n",
        " \n",
        "#Sum of first 7 terms of a GP with first term 8.5 and common ratio 0.5 is 16.8671875\n",
        "#Sum of first 9 terms of a GP with first term 17.4 and common ratio 0.5 is 34.73203124999999\n",
        " \n",
        "#Sum of first 7 terms of a HP with first term 9.6 and common difference 1.5 is 0.5208893590639607\n",
        "#Sum of first 8 terms of a HP with first term 14.5 and common difference 1.5 is 0.41802817808039006"
      ],
      "metadata": {
        "colab": {
          "base_uri": "https://localhost:8080/"
        },
        "id": "jAcLBZYX8iQ0",
        "outputId": "cefba54c-37c8-481c-a916-3f393c19d1e8"
      },
      "execution_count": null,
      "outputs": [
        {
          "output_type": "stream",
          "name": "stdout",
          "text": [
            "Sum of first 8 terms of an AP with first term 3.4 and common difference 1.5 is 69.2\n",
            "Sum of first 10 terms of an AP with first term 6.7 and common difference 1.5 is 134.5\n",
            " \n",
            "Sum of first 7 terms of a GP with first term 8.5 and common ratio 0.5 is 16.8671875\n",
            "Sum of first 9 terms of a GP with first term 17.4 and common ratio 0.5 is 34.73203124999999\n",
            " \n",
            "Sum of first 7 terms of a HP with first term 9.6 and common difference 1.5 is 0.5208893590639607\n",
            "Sum of first 8 terms of a HP with first term 14.5 and common difference 1.5 is 0.41802817808039006\n"
          ]
        }
      ]
    },
    {
      "cell_type": "markdown",
      "source": [
        "## **3. Sum of series upto *n* and plotting Sum vs. *n***"
      ],
      "metadata": {
        "id": "81UmmIlMORpf"
      }
    },
    {
      "cell_type": "code",
      "source": [
        "import matplotlib.pyplot as plt\n",
        "i = 1\n",
        "Ai = float((-1)*((-0.5)**i))\n",
        "sum = float(0)\n",
        "x = []\n",
        "y = []\n",
        "\n",
        "while abs(Ai) > 0:\n",
        "  sum += Ai\n",
        "  x.append(i)\n",
        "  y.append(Ai)\n",
        "  i += 1\n",
        "  Ai = float((-1)*((-0.5)**i))\n",
        "print(\"Sum of the series is\", '%.4f' % sum)\n",
        "plt.plot(x, y)\n",
        "plt.xlabel('n')\n",
        "plt.ylabel('Sum')\n",
        "plt.title('Sum of series vs. n')\n",
        "plt.show()\n",
        "\n"
      ],
      "metadata": {
        "colab": {
          "base_uri": "https://localhost:8080/",
          "height": 312
        },
        "id": "pZcSqH2PPFqA",
        "outputId": "66f0222d-a66f-441c-d36b-1836bd3f51c3"
      },
      "execution_count": null,
      "outputs": [
        {
          "output_type": "stream",
          "name": "stdout",
          "text": [
            "Sum of the series is 0.3333\n"
          ]
        },
        {
          "output_type": "display_data",
          "data": {
            "text/plain": [
              "<Figure size 432x288 with 1 Axes>"
            ],
            "image/png": "[encoded data removed]"
          },
          "metadata": {
            "needs_background": "light"
          }
        }
      ]
    },
    {
      "cell_type": "markdown",
      "source": [
        "## **4. Multiplication of matrices**"
      ],
      "metadata": {
        "id": "pCf2qKB5X8yD"
      }
    },
    {
      "cell_type": "code",
      "source": [
        "import numpy as np\n",
        "\n",
        "A = np.array([[2.0, -3.0, 1.4],[2.5, 1.0, -2.0],[-0.8, 0.0, 3.1]])\n",
        "B = np.array([[0.0, -1.0, 1.0], [1.5, 0.5, -2.0], [3.0, 0.0, -2.0]])\n",
        "C = np.array([[-2.0], [0.5], [1.5]])\n",
        "D = np.array([[1.0], [0.0], [-1.0]])\n",
        "result_1 = np.array([[0.0, 0.0, 0.0], [0.0, 0.0, 0.0], [0.0, 0.0, 0.0]])\n",
        "result_2 = 0.0\n",
        "result_3 = np.array([[0.0], [0.0], [0.0]])\n",
        "\n",
        "for i in range(len(A)):\n",
        "  \n",
        "  for j in range(len(B)):\n",
        "    \n",
        "    for k in range(len(B)):\n",
        "      result_1[i][j] += A[i][k] * B[k][j]\n",
        "\n",
        "\n",
        "for i in range(len(D)):\n",
        "  result_2 += D[i, 0] * C[i, 0]\n",
        "\n",
        "\n",
        "for i in range(len(B)):\n",
        "  \n",
        "  for k in range(len(B)):\n",
        "    result_3[i][0] += B[i][k] * C[k][0]\n",
        "\n",
        "print(\"Multiplication of A x B is\")\n",
        "print(result_1)\n",
        "print(' ')\n",
        "print(\"Dot product of D.C is\")\n",
        "print(result_2)\n",
        "print(' ')\n",
        "print(\"Multiplication of B x C is\")\n",
        "print(result_3)\n",
        "\n",
        "\n",
        "\n",
        "\"OUTPUT\"\n",
        "#Multiplication of A x B is\n",
        "#[[-0.3 -3.5  5.2]\n",
        "# [-4.5 -2.   4.5]\n",
        "# [ 9.3  0.8 -7. ]]\n",
        " \n",
        "#Dot product of D.C is\n",
        "#-3.5\n",
        " \n",
        "#Multiplication of B x C is\n",
        "#[[ 1.  ]\n",
        "# [-5.75]\n",
        "# [-9.  ]]"
      ],
      "metadata": {
        "id": "MXNgOahzYLBJ",
        "colab": {
          "base_uri": "https://localhost:8080/"
        },
        "outputId": "c628d8ad-9bb1-474e-d36a-ce133734d689"
      },
      "execution_count": null,
      "outputs": [
        {
          "output_type": "stream",
          "name": "stdout",
          "text": [
            "Multiplication of A x B is\n",
            "[[-0.3 -3.5  5.2]\n",
            " [-4.5 -2.   4.5]\n",
            " [ 9.3  0.8 -7. ]]\n",
            " \n",
            "Dot product of D.C is\n",
            "-3.5\n",
            " \n",
            "Multiplication of B x C is\n",
            "[[ 1.  ]\n",
            " [-5.75]\n",
            " [-9.  ]]\n"
          ]
        }
      ]
    },
    {
      "cell_type": "markdown",
      "source": [
        "## **5. Using class *MyComplex* to calculate sum, product, modulus of two img. numbers**"
      ],
      "metadata": {
        "id": "V2qvw7_GrJhM"
      }
    },
    {
      "cell_type": "code",
      "source": [
        "class MyComplex:\n",
        "  def __init__(self, a,b):\n",
        "    self.real_part = a\n",
        "    self.img_part = b\n",
        "\n",
        "def sum(a,b):\n",
        "  real_part = a.real_part + b.real_part\n",
        "  imaginary_part = a.img_part + b.img_part\n",
        "  return real_part, imaginary_part\n",
        "\n",
        "def product(a,b):\n",
        "  real_part = a.real_part*b.real_part - a.img_part*b.img_part\n",
        "  imaginary_part = a.real_part*b.img_part + a.img_part*b.real_part\n",
        "  return real_part, imaginary_part\n",
        "\n",
        "def modulus(a):\n",
        "  return (a.real_part**2 + a.img_part**2)**0.5\n",
        "\n",
        "\n",
        "c1 = MyComplex(3,-2)\n",
        "c2 = MyComplex(1,2)\n",
        "Sum = sum(c1,c2)\n",
        "Prod = product(c1,c2)\n",
        "Mod1 = modulus(c1)\n",
        "Mod2 = modulus(c2)\n",
        "print(\"Sum of the two complex numbers is\",Sum[0],\"+\",Sum[1],\"i\")\n",
        "print(\"Product of the two complex numbers is\",Prod[0],\"+\",Prod[1],\"i\")\n",
        "print(\"Modulus of the first complex number is\", Mod1)\n",
        "print(\"Modulus of the second complex number is\", Mod2)\n",
        "\n",
        "\n",
        "\"OUTPUT\"\n",
        "#Sum of the two complex numbers is 4 + 0 i\n",
        "#Product of the two complex numbers is 7 + 4 i\n",
        "#Modulus of the first complex number is 3.605551275463989\n",
        "#Modulus of the second complex number is 2.23606797749979"
      ],
      "metadata": {
        "colab": {
          "base_uri": "https://localhost:8080/",
          "height": 105
        },
        "id": "J_zfPU5zriXu",
        "outputId": "6fa56231-b891-4303-9fdd-b928f2a1c505"
      },
      "execution_count": null,
      "outputs": [
        {
          "output_type": "stream",
          "name": "stdout",
          "text": [
            "Sum of the two complex numbers is 4 + 0 i\n",
            "Product of the two complex numbers is 7 + 4 i\n",
            "Modulus of the first complex number is 3.605551275463989\n",
            "Modulus of the second complex number is 2.23606797749979\n"
          ]
        },
        {
          "output_type": "execute_result",
          "data": {
            "text/plain": [
              "'OUTPUT'"
            ],
            "application/vnd.google.colaboratory.intrinsic+json": {
              "type": "string"
            }
          },
          "metadata": {},
          "execution_count": 77
        }
      ]
    }
  ]
}