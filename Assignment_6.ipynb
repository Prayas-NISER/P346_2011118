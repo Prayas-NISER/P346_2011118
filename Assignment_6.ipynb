{
 "cells": [
  {
   "cell_type": "markdown",
   "id": "38c42bb5",
   "metadata": {},
   "source": [
    "# P346 Assignment - 6"
   ]
  },
  {
   "cell_type": "code",
   "execution_count": 10,
   "id": "ee36031e",
   "metadata": {},
   "outputs": [],
   "source": [
    "import Library.ODE_solver as ODE"
   ]
  },
  {
   "cell_type": "markdown",
   "id": "3ffb7f2d",
   "metadata": {},
   "source": [
    "## Question 1"
   ]
  },
  {
   "cell_type": "code",
   "execution_count": 11,
   "id": "c988586a",
   "metadata": {},
   "outputs": [
    {
     "ename": "TypeError",
     "evalue": "<lambda>() missing 1 required positional argument: 't'",
     "output_type": "error",
     "traceback": [
      "\u001b[1;31m---------------------------------------------------------------------------\u001b[0m",
      "\u001b[1;31mTypeError\u001b[0m                                 Traceback (most recent call last)",
      "Input \u001b[1;32mIn [11]\u001b[0m, in \u001b[0;36m<cell line: 25>\u001b[1;34m()\u001b[0m\n\u001b[0;32m     23\u001b[0m x_o \u001b[38;5;241m=\u001b[39m \u001b[38;5;241m0\u001b[39m\n\u001b[0;32m     24\u001b[0m Y_o\u001b[38;5;241m=\u001b[39m[[\u001b[38;5;241m2\u001b[39m],[\u001b[38;5;241m-\u001b[39m\u001b[38;5;241m1\u001b[39m]]\n\u001b[1;32m---> 25\u001b[0m S\u001b[38;5;241m=\u001b[39m\u001b[43mRK4_solve_system\u001b[49m\u001b[43m(\u001b[49m\u001b[43mF\u001b[49m\u001b[43m,\u001b[49m\u001b[43mx_o\u001b[49m\u001b[43m,\u001b[49m\u001b[43mY_o\u001b[49m\u001b[43m,\u001b[49m\u001b[38;5;241;43m0.05\u001b[39;49m\u001b[43m)\u001b[49m\n\u001b[0;32m     26\u001b[0m y1\u001b[38;5;241m=\u001b[39mS[\u001b[38;5;241m0\u001b[39m]\n\u001b[0;32m     27\u001b[0m x1\u001b[38;5;241m=\u001b[39mS[\u001b[38;5;241m2\u001b[39m]\n",
      "Input \u001b[1;32mIn [11]\u001b[0m, in \u001b[0;36mRK4_solve_system\u001b[1;34m(F, x, Y_0, h, N)\u001b[0m\n\u001b[0;32m      6\u001b[0m n \u001b[38;5;241m=\u001b[39m \u001b[38;5;28mlen\u001b[39m(sol)\u001b[38;5;241m-\u001b[39m\u001b[38;5;241m1\u001b[39m\n\u001b[0;32m      7\u001b[0m \u001b[38;5;28;01mfor\u001b[39;00m _ \u001b[38;5;129;01min\u001b[39;00m \u001b[38;5;28mrange\u001b[39m(N):\n\u001b[1;32m----> 8\u001b[0m    K1\u001b[38;5;241m=\u001b[39m[h\u001b[38;5;241m*\u001b[39mf_i([sol[k][\u001b[38;5;241m-\u001b[39m\u001b[38;5;241m1\u001b[39m] \u001b[38;5;28;01mfor\u001b[39;00m k \u001b[38;5;129;01min\u001b[39;00m \u001b[38;5;28mrange\u001b[39m(n)],sol[\u001b[38;5;241m-\u001b[39m\u001b[38;5;241m1\u001b[39m][\u001b[38;5;241m-\u001b[39m\u001b[38;5;241m1\u001b[39m]) \u001b[38;5;28;01mfor\u001b[39;00m f_i \u001b[38;5;129;01min\u001b[39;00m F]\n\u001b[0;32m      9\u001b[0m    K2\u001b[38;5;241m=\u001b[39m[h\u001b[38;5;241m*\u001b[39mf_i([sol[k][\u001b[38;5;241m-\u001b[39m\u001b[38;5;241m1\u001b[39m]\u001b[38;5;241m+\u001b[39mK1[k]\u001b[38;5;241m/\u001b[39m\u001b[38;5;241m2\u001b[39m \u001b[38;5;28;01mfor\u001b[39;00m k \u001b[38;5;129;01min\u001b[39;00m \u001b[38;5;28mrange\u001b[39m(n)],sol[\u001b[38;5;241m-\u001b[39m\u001b[38;5;241m1\u001b[39m][\u001b[38;5;241m-\u001b[39m\u001b[38;5;241m1\u001b[39m]\u001b[38;5;241m+\u001b[39mh\u001b[38;5;241m/\u001b[39m\u001b[38;5;241m2\u001b[39m) \u001b[38;5;28;01mfor\u001b[39;00m f_i \u001b[38;5;129;01min\u001b[39;00m F]\n\u001b[0;32m     10\u001b[0m    K3\u001b[38;5;241m=\u001b[39m[h\u001b[38;5;241m*\u001b[39mf_i([sol[k][\u001b[38;5;241m-\u001b[39m\u001b[38;5;241m1\u001b[39m]\u001b[38;5;241m+\u001b[39mK2[k]\u001b[38;5;241m/\u001b[39m\u001b[38;5;241m2\u001b[39m \u001b[38;5;28;01mfor\u001b[39;00m k \u001b[38;5;129;01min\u001b[39;00m \u001b[38;5;28mrange\u001b[39m(n)],sol[\u001b[38;5;241m-\u001b[39m\u001b[38;5;241m1\u001b[39m][\u001b[38;5;241m-\u001b[39m\u001b[38;5;241m1\u001b[39m]\u001b[38;5;241m+\u001b[39mh\u001b[38;5;241m/\u001b[39m\u001b[38;5;241m2\u001b[39m) \u001b[38;5;28;01mfor\u001b[39;00m f_i \u001b[38;5;129;01min\u001b[39;00m F]\n",
      "Input \u001b[1;32mIn [11]\u001b[0m, in \u001b[0;36m<listcomp>\u001b[1;34m(.0)\u001b[0m\n\u001b[0;32m      6\u001b[0m n \u001b[38;5;241m=\u001b[39m \u001b[38;5;28mlen\u001b[39m(sol)\u001b[38;5;241m-\u001b[39m\u001b[38;5;241m1\u001b[39m\n\u001b[0;32m      7\u001b[0m \u001b[38;5;28;01mfor\u001b[39;00m _ \u001b[38;5;129;01min\u001b[39;00m \u001b[38;5;28mrange\u001b[39m(N):\n\u001b[1;32m----> 8\u001b[0m    K1\u001b[38;5;241m=\u001b[39m[h\u001b[38;5;241m*\u001b[39m\u001b[43mf_i\u001b[49m\u001b[43m(\u001b[49m\u001b[43m[\u001b[49m\u001b[43msol\u001b[49m\u001b[43m[\u001b[49m\u001b[43mk\u001b[49m\u001b[43m]\u001b[49m\u001b[43m[\u001b[49m\u001b[38;5;241;43m-\u001b[39;49m\u001b[38;5;241;43m1\u001b[39;49m\u001b[43m]\u001b[49m\u001b[43m \u001b[49m\u001b[38;5;28;43;01mfor\u001b[39;49;00m\u001b[43m \u001b[49m\u001b[43mk\u001b[49m\u001b[43m \u001b[49m\u001b[38;5;129;43;01min\u001b[39;49;00m\u001b[43m \u001b[49m\u001b[38;5;28;43mrange\u001b[39;49m\u001b[43m(\u001b[49m\u001b[43mn\u001b[49m\u001b[43m)\u001b[49m\u001b[43m]\u001b[49m\u001b[43m,\u001b[49m\u001b[43msol\u001b[49m\u001b[43m[\u001b[49m\u001b[38;5;241;43m-\u001b[39;49m\u001b[38;5;241;43m1\u001b[39;49m\u001b[43m]\u001b[49m\u001b[43m[\u001b[49m\u001b[38;5;241;43m-\u001b[39;49m\u001b[38;5;241;43m1\u001b[39;49m\u001b[43m]\u001b[49m\u001b[43m)\u001b[49m \u001b[38;5;28;01mfor\u001b[39;00m f_i \u001b[38;5;129;01min\u001b[39;00m F]\n\u001b[0;32m      9\u001b[0m    K2\u001b[38;5;241m=\u001b[39m[h\u001b[38;5;241m*\u001b[39mf_i([sol[k][\u001b[38;5;241m-\u001b[39m\u001b[38;5;241m1\u001b[39m]\u001b[38;5;241m+\u001b[39mK1[k]\u001b[38;5;241m/\u001b[39m\u001b[38;5;241m2\u001b[39m \u001b[38;5;28;01mfor\u001b[39;00m k \u001b[38;5;129;01min\u001b[39;00m \u001b[38;5;28mrange\u001b[39m(n)],sol[\u001b[38;5;241m-\u001b[39m\u001b[38;5;241m1\u001b[39m][\u001b[38;5;241m-\u001b[39m\u001b[38;5;241m1\u001b[39m]\u001b[38;5;241m+\u001b[39mh\u001b[38;5;241m/\u001b[39m\u001b[38;5;241m2\u001b[39m) \u001b[38;5;28;01mfor\u001b[39;00m f_i \u001b[38;5;129;01min\u001b[39;00m F]\n\u001b[0;32m     10\u001b[0m    K3\u001b[38;5;241m=\u001b[39m[h\u001b[38;5;241m*\u001b[39mf_i([sol[k][\u001b[38;5;241m-\u001b[39m\u001b[38;5;241m1\u001b[39m]\u001b[38;5;241m+\u001b[39mK2[k]\u001b[38;5;241m/\u001b[39m\u001b[38;5;241m2\u001b[39m \u001b[38;5;28;01mfor\u001b[39;00m k \u001b[38;5;129;01min\u001b[39;00m \u001b[38;5;28mrange\u001b[39m(n)],sol[\u001b[38;5;241m-\u001b[39m\u001b[38;5;241m1\u001b[39m][\u001b[38;5;241m-\u001b[39m\u001b[38;5;241m1\u001b[39m]\u001b[38;5;241m+\u001b[39mh\u001b[38;5;241m/\u001b[39m\u001b[38;5;241m2\u001b[39m) \u001b[38;5;28;01mfor\u001b[39;00m f_i \u001b[38;5;129;01min\u001b[39;00m F]\n",
      "\u001b[1;31mTypeError\u001b[0m: <lambda>() missing 1 required positional argument: 't'"
     ]
    }
   ],
   "source": [
    "# Given differential equation: 2*y'' + gamma*y' + 2*y = 2*cos(omega*t), y(0)=2, y'(0)=-1\n",
    "\n",
    "# Function for solving ODE by RK4 method\n",
    "def RK4_solve_system(F,x,Y_0,h=0.01,N=100):\n",
    "    sol = Y_0+[[x]]\n",
    "    n = len(sol)-1\n",
    "    for _ in range(N):\n",
    "       K1=[h*f_i([sol[k][-1] for k in range(n)],sol[-1][-1]) for f_i in F]\n",
    "       K2=[h*f_i([sol[k][-1]+K1[k]/2 for k in range(n)],sol[-1][-1]+h/2) for f_i in F]\n",
    "       K3=[h*f_i([sol[k][-1]+K2[k]/2 for k in range(n)],sol[-1][-1]+h/2) for f_i in F]\n",
    "       K4=[h*f_i([sol[k][-1]+K3[k] for k in range(n)],sol[-1][-1]+h) for f_i in F]\n",
    "       sol[-1].append(sol[-1][-1]+h)\n",
    "       for i in range(n):\n",
    "           sol[i].append(sol[i][-1]+(K1[i]+2*K2[i]+2*K3[i]+K4[i])/6)\n",
    "    return(sol)\n",
    "\n",
    "\n",
    "import math\n",
    "import numpy as np\n",
    "\n",
    "F=[lambda Y,y,t: Y[1],lambda Y,y,t: math.cos(1.2*t)-0.1*Y[1]-y]\n",
    "t = 0\n",
    "x_o = 0\n",
    "Y_o=[[2],[-1]]\n",
    "S=RK4_solve_system(F,x_o,Y_o,0.05)\n",
    "y1=S[0]\n",
    "x1=S[2]\n",
    "Y_o=[[2],[-1]]\n",
    "S_=RK4_solve_system(F,x_o,Y_o,-0.05)\n",
    "y_=S_[0]\n",
    "x_=S_[2]\n",
    "\n",
    "import matplot.pyplot as plt\n",
    "x = np.arange(-5,5,0.01)\n",
    "plt.plot(x,y,\"r--\",label='actual')\n",
    "plt.plot(x1,y1,\"g--\",label='RK4 sol')\n",
    "plt.plot(x_,y_,\"b--\",label='-RK4')\n",
    "plt.xlim(-5,5)\n",
    "plt.ylim(-5,5)\n",
    "plt.legend()\n"
   ]
  },
  {
   "cell_type": "markdown",
   "id": "109f4dc1",
   "metadata": {},
   "source": [
    "## Question 2"
   ]
  },
  {
   "cell_type": "code",
   "execution_count": 13,
   "id": "3b7d7805",
   "metadata": {},
   "outputs": [],
   "source": [
    "# Given differential equation: d2T/dx2 + alpha(T_alpha - T) = 0\n",
    "\n",
    "# Function for solving 2nd order ODE with given Dirichlet boundary conditions\n",
    "def Shooting_method(d2ydx2, dydx, x0, y0, xf, yf, z_guess1, z_guess2, step_size, tol=1e-6):\n",
    "    '''x0: Lower boundary value of x\n",
    "    y0 = y(x0)\n",
    "    xf: Upper boundary value of x\n",
    "    yf = y(xf)\n",
    "    z = dy/dx\n",
    "    '''\n",
    "    x, y, z = ODE.RK4(d2ydx2, dydx, x0, y0, z_guess1, xf, step_size)\n",
    "    yn = y[-1]\n",
    "\n",
    "    if abs(yn - yf) > tol:\n",
    "        if yn < yf:\n",
    "            zeta_l = z_guess1\n",
    "            yl = yn\n",
    "            x, y, z = ODE.RK4(d2ydx2, dydx, x0, y0, z_guess2, xf, step_size)\n",
    "            yn = y[-1]\n",
    "            if yn > yf:\n",
    "                zeta_h = z_guess2\n",
    "                yh = yn\n",
    "                # calculate zeta using Lagrange interpolation\n",
    "                zeta = ODE.lagrange_interpolation(zeta_h, zeta_l, yh, yl, yf)\n",
    "                # using this zeta to solve using RK4\n",
    "                x, y, z = ODE.RK4(d2ydx2, dydx, x0, y0, zeta, xf, step_size)\n",
    "                return x, y, z\n",
    "            else:\n",
    "                print(\"Bracketing failed! Try another guess.\")\n",
    "\n",
    "        elif yn > yf:\n",
    "            zeta_h = z_guess1\n",
    "            yh = yn\n",
    "            x, y, z = ODE.RK4(d2ydx2, dydx, x0, y0, z_guess2, xf, step_size)\n",
    "            yn = y[-1]\n",
    "            if yn < yf:\n",
    "                zeta_l = z_guess2\n",
    "                yl = yn\n",
    "                # calculate zeta using Lagrange interpolation\n",
    "                zeta = ODE.lagrange_interpolation(zeta_h, zeta_l, yh, yl, yf)\n",
    "                x, y, z = ODE.RK4(d2ydx2, dydx, x0, y0, zeta, xf, step_size)\n",
    "                return x, y, z\n",
    "            else:\n",
    "                print(\"Bracketing failed! Try another guess.\")\n",
    "    else:\n",
    "        return x, y, z\n"
   ]
  },
  {
   "cell_type": "markdown",
   "id": "3cb9f4af",
   "metadata": {},
   "source": [
    "## Question 3"
   ]
  },
  {
   "cell_type": "code",
   "execution_count": null,
   "id": "dacf0a70",
   "metadata": {},
   "outputs": [],
   "source": []
  },
  {
   "cell_type": "markdown",
   "id": "0368587a",
   "metadata": {},
   "source": [
    "## Question 4"
   ]
  },
  {
   "cell_type": "code",
   "execution_count": null,
   "id": "8f4c80b2",
   "metadata": {},
   "outputs": [],
   "source": []
  }
 ],
 "metadata": {
  "kernelspec": {
   "display_name": "Python 3 (ipykernel)",
   "language": "python",
   "name": "python3"
  },
  "language_info": {
   "codemirror_mode": {
    "name": "ipython",
    "version": 3
   },
   "file_extension": ".py",
   "mimetype": "text/x-python",
   "name": "python",
   "nbconvert_exporter": "python",
   "pygments_lexer": "ipython3",
   "version": "3.9.12"
  }
 },
 "nbformat": 4,
 "nbformat_minor": 5
}
