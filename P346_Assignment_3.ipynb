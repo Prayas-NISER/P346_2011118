{
 "cells": [
  {
   "cell_type": "markdown",
   "id": "7db76e91",
   "metadata": {},
   "source": [
    "# P346 Assignment-3"
   ]
  },
  {
   "cell_type": "markdown",
   "id": "e94dc0c0",
   "metadata": {},
   "source": [
    "## Question 1"
   ]
  },
  {
   "cell_type": "code",
   "execution_count": 1,
   "id": "5c7fbab6",
   "metadata": {},
   "outputs": [
    {
     "name": "stdout",
     "output_type": "stream",
     "text": [
      "-3\n",
      "[[-3, 2, 4, 1, -2], [-2, 0, 1, 1, -3], [0, 1, 2, -1, 2], [-1, 1, -4, -7, -19]]\n"
     ]
    }
   ],
   "source": [
    "import numpy as np\n",
    "A = [[-2, 0, 1, 1, -3],\n",
    "     [0, 1, 2, -1, 2],\n",
    "     [-3, 2, 4, 1, -2],\n",
    "     [-1, 1, -4, -7, -19]]\n",
    "Swap = [0, 0, 0, 0, 0]\n",
    "pivot = A[0][0]\n",
    "\n",
    "for i in range(len(A)-1):\n",
    "  if abs(A[i][0]) > pivot:\n",
    "    pivot = A[i][0]\n",
    "    Swap = A[0]\n",
    "    A[0] = A[i]\n",
    "    A[i] = Swap\n",
    "print(pivot)\n",
    "print(A)\n"
   ]
  },
  {
   "cell_type": "markdown",
   "id": "0ab7233c",
   "metadata": {},
   "source": [
    "## Question 2"
   ]
  },
  {
   "cell_type": "code",
   "execution_count": 2,
   "id": "ed0c02b0",
   "metadata": {},
   "outputs": [
    {
     "name": "stdout",
     "output_type": "stream",
     "text": [
      "Lower Triangular matrix\t\tTranspose matrix\n",
      "2.0\t0\t0\t\t2.0\t6.0\t-8.0\t\n",
      "6.0\t1.0\t0\t\t0\t1.0\t5.0\t\n",
      "-8.0\t5.0\t3.0\t\t0\t0\t3.0\t\n"
     ]
    }
   ],
   "source": [
    "# To decompose a matrix using Cholesky Decomposition\n",
    "import math\n",
    " \n",
    "def Cholesky_Decomposition(matrix, n: int):\n",
    " \n",
    "    lower = [[0 for x in range(n+1)]\n",
    "                for y in range(n+1)];\n",
    " \n",
    "    # Decomposing a matrix into Lower Triangular matrix\n",
    "    for i in range(n):\n",
    "        for j in range(i+1):\n",
    "            sum1 = 0;\n",
    " \n",
    "            # Summation for diagonals\n",
    "            if (j == i):\n",
    "                for k in range(j):\n",
    "                    sum1 += pow(lower[j][k], 2);\n",
    "                lower[j][j] = float(math.sqrt(matrix[j][j] - sum1));\n",
    "            else: \n",
    "                # Evaluating L(i,j) using L(j,j)\n",
    "                for k in range(j):\n",
    "                    sum1 += (lower[i][k] * lower[j][k]);\n",
    "                if(lower[j][j] > 0):\n",
    "                    lower[i][j] = float((matrix[i][j] - sum1) / lower[j][j]);\n",
    "\n",
    "    \n",
    "    print(\"Lower Triangular matrix\\t\\tTranspose matrix\");\n",
    "\n",
    "    for i in range(n):\n",
    "         \n",
    "        for j in range(n):\n",
    "            print(round(lower[i][j], 2), end = \"\\t\");\n",
    "        print(\"\", end = \"\\t\");\n",
    "         \n",
    "        for j in range(n):\n",
    "            print(round(lower[j][i], 2), end = \"\\t\");\n",
    "        print(\"\");\n",
    " \n",
    "M1 = [[4, 12, -16],\n",
    "      [12, 37, -43],\n",
    "      [-16, -43, 98]]\n",
    "\n",
    "Cholesky_Decomposition(M1, 3);"
   ]
  },
  {
   "cell_type": "markdown",
   "id": "86f335af",
   "metadata": {},
   "source": [
    "## Question 3"
   ]
  },
  {
   "cell_type": "code",
   "execution_count": null,
   "id": "d7d68c63",
   "metadata": {},
   "outputs": [],
   "source": [
    "# Solving a system of linear equations with Jacobi iterative method\n",
    "def iterative_sol(A, B, X, e):\n",
    "  sol1 = []\n",
    "  sol2 = []\n",
    "  sum = 0\n",
    "  n = 0\n",
    "  for r in range (2):\n",
    "    for i in range(2):\n",
    "      for j in range(2):\n",
    "        if (i != j):\n",
    "          sum += float(A[i][j] * X[r][0])\n",
    "  for i in range(2):\n",
    "    sol1[i][0] = float((B[i][0] - sum)/A[i][i])\n",
    "  sum = 0\n",
    "  for r in range (2):\n",
    "    for i in range(2):\n",
    "      for j in range(2):\n",
    "        if (i != j):\n",
    "          sum += float(A[i][j] * sol1[r][0])\n",
    "  for i in range(2):\n",
    "    sol2[i][0] = float((B[i][0] - sum)/A[i][i])\n",
    "  sum = 0\n",
    "  n += 1\n",
    "  while abs(sol2[0][0] - sol1[0][0]) > e:\n",
    "    for r in range (2):\n",
    "      for i in range(2):\n",
    "        for j in range(2):\n",
    "          if (i != j):\n",
    "            sum += float(A[i][j] * sol2[r][0])\n",
    "    for i in range(2):\n",
    "      sol2[i][0] = float((B[i][0] - sum)/A[i][i])\n",
    "    sum = 0\n",
    "    n += 1\n",
    "  print(sol2)\n",
    "\n",
    "A = [[4, -1, 1],\n",
    "     [4, -8, 1],\n",
    "     [-2, 1, 5]]\n",
    "\n",
    "B = [[7],\n",
    "     [-21],\n",
    "     [15]]\n",
    "\n",
    "X = [[0],\n",
    "     [0],\n",
    "     [0]]\n",
    "\n",
    "iterative_sol(A, B, X, 0.001)\n",
    "\n",
    "\n",
    "# Solving a system of linear equations with Gauss-Seidel iterative method\n",
    "def gauss_seidel(A, B, n):\n",
    "  X = [[0],\n",
    "       [0],\n",
    "       [0],\n",
    "       [0]]\n",
    "  sum_k1 = 0\n",
    "  sum_k2 = 0\n",
    "  for r in range(n):\n",
    "    for i in range(4):\n",
    "      for j in range(i+1,4):\n",
    "        sum_k1 += A[i][j] * X[j][0]\n",
    "      for j in range(i):\n",
    "        sum_k2 += A[i][j] * X[j][0]\n",
    "      X[i][0] = (B[i][0] - sum_k2 - sum_k1)/A[i][i]\n",
    "      sum_k1 = 0\n",
    "      sum_k2 = 0\n",
    "  print(X)\n",
    "\n",
    "A = [[4, 1, -1, 1],\n",
    "     [1, 4, -1, -1],\n",
    "     [-1, -1, 5, 1],\n",
    "     [1, -1, 1, 3]]\n",
    "\n",
    "B = [[-2],\n",
    "     [-1],\n",
    "     [0],\n",
    "     [1]]\n",
    "\n",
    "gauss_seidel(A, B, 100)"
   ]
  }
 ],
 "metadata": {
  "kernelspec": {
   "display_name": "Python 3 (ipykernel)",
   "language": "python",
   "name": "python3"
  },
  "language_info": {
   "codemirror_mode": {
    "name": "ipython",
    "version": 3
   },
   "file_extension": ".py",
   "mimetype": "text/x-python",
   "name": "python",
   "nbconvert_exporter": "python",
   "pygments_lexer": "ipython3",
   "version": "3.9.12"
  }
 },
 "nbformat": 4,
 "nbformat_minor": 5
}
