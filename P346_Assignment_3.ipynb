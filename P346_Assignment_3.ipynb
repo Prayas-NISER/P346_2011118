{
 "cells": [
  {
   "cell_type": "markdown",
   "id": "7db76e91",
   "metadata": {},
   "source": [
    "# P346 Assignment-3"
   ]
  },
  {
   "cell_type": "markdown",
   "id": "e94dc0c0",
   "metadata": {},
   "source": [
    "## Question 1"
   ]
  },
  {
   "cell_type": "code",
   "execution_count": 1,
   "id": "dbfabcb9",
   "metadata": {},
   "outputs": [],
   "source": [
    "import Library.Read_matrix as Read\n",
    "import Library.Linear_eqsolver as Solve"
   ]
  },
  {
   "cell_type": "code",
   "execution_count": 2,
   "id": "5c7fbab6",
   "metadata": {},
   "outputs": [
    {
     "name": "stdout",
     "output_type": "stream",
     "text": [
      "The matrix after performing Gauss-Jordan elimination is given by:\n",
      "1.0, 0.0, 0.0, 0.0, 0.0, 0.0, -1.76\n",
      "0.0, 1.0, 0.0, 0.0, 0.0, 0.0, 0.9\n",
      "0.0, 0.0, 1.0, 0.0, 0.0, 0.0, 4.05\n",
      "0.0, 0.0, 0.0, 1.0, 0.0, 0.0, -1.62\n",
      "0.0, 0.0, 0.0, 0.0, 1.0, 0.0, 2.04\n",
      "0.0, 0.0, 0.0, 0.0, 0.0, 1.0, 0.15\n",
      "\n",
      "The solutions for the given system of equations respectively are:\n",
      "\n",
      "-1.76\n",
      "\n",
      "0.9\n",
      "\n",
      "4.05\n",
      "\n",
      "-1.62\n",
      "\n",
      "2.04\n",
      "\n",
      "0.15\n",
      "\n",
      "The solutions for the given system of equations by LU decomposition method are:\n",
      "[[-1.76], [0.9], [4.05], [-1.62], [2.04], [0.15]]\n"
     ]
    }
   ],
   "source": [
    "# Reading the input matrix\n",
    "AB = Read.read_Mat(r\"Assg3 Input files/Assg3_Q1_AB.txt\")\n",
    "\n",
    "# Solving by reducing the matrix using Gauss-Jordan elimination\n",
    "Ans1 = Solve.Gauss_Jordan(AB)\n",
    "print(\"The matrix after performing Gauss-Jordan elimination is given by:\")\n",
    "print(str(\"\\n\".join(str(Ans1).split(\"], [\")))[2:-2])\n",
    "print()\n",
    "Solve.Gauss_Jordan(AB,\"solve\")\n",
    "\n",
    "# Solving the system of equations using LU decomposition method\n",
    "Ans2 = Solve.LU_decomp_eqsolver(AB)\n",
    "print(\"The solutions for the given system of equations by LU decomposition method are:\")\n",
    "print(Ans2)"
   ]
  },
  {
   "cell_type": "markdown",
   "id": "0ab7233c",
   "metadata": {},
   "source": [
    "## Question 2"
   ]
  },
  {
   "cell_type": "code",
   "execution_count": 3,
   "id": "ed0c02b0",
   "metadata": {},
   "outputs": [
    {
     "name": "stdout",
     "output_type": "stream",
     "text": [
      "Entered matrix is symmetric\n",
      "The solutions for the given system of equations by Cholesky decomposition method are:\n",
      "[[1.0], [1.0], [1.0], [1.0], [0.99], [1.0]]\n",
      "\n",
      "The solutions by using Gauss-Seidel method (with precision = 10^-6) are:\n",
      "Entered precision level reached with no. of iterations: 17\n",
      "[1.0, 1.0, 1.0, 1.0, 1.0, 1.0]\n"
     ]
    }
   ],
   "source": [
    "# Reading the input matrix\n",
    "AB = Read.read_Mat(r\"Assg3 Input files/Assg3_Q2_AB.txt\")\n",
    "A = Read.read_Mat(r\"Assg3 Input files/Assg3_Q2_A.txt\")\n",
    "B = Read.read_Mat(r\"Assg3 Input files/Assg3_Q2_B.txt\")\n",
    "\n",
    "# Checking for symmetric matrix\n",
    "print(Solve.check_sym(A))\n",
    "\n",
    "# Solving the system of equations using Cholesky decomposition method\n",
    "Ans1 = Solve.Cholesky_eqsolver(AB)\n",
    "print(\"The solutions for the given system of equations by Cholesky decomposition method are:\")\n",
    "print(Ans1)\n",
    "print()\n",
    "\n",
    "# Solving the system of equations using Gauss-Seidel method\n",
    "print(\"The solutions by using Gauss-Seidel method (with precision = 10^-6) are:\")\n",
    "Ans2 = Solve.Gauss_Seidel_eqsolver(A, B, 1e-6)\n",
    "print(Ans2)"
   ]
  },
  {
   "cell_type": "markdown",
   "id": "86f335af",
   "metadata": {},
   "source": [
    "## Question 3"
   ]
  },
  {
   "cell_type": "code",
   "execution_count": 4,
   "id": "9cebdc5e",
   "metadata": {},
   "outputs": [
    {
     "name": "stdout",
     "output_type": "stream",
     "text": [
      "The solutions for the given system of equations by LU decomposition method are:\n",
      "[[2.96], [2.3], [0.06], [0.22], [5.68]]\n",
      "\n",
      "The solutions by using Jacobi method (with precision = 10^-6) are:\n",
      "Entered precision level reached with no. of iterations: 64\n",
      "[2.56, -3.12, 13.12, -1.3, 1.25]\n",
      "\n",
      "The solutions by using Gauss-Seidel method (with precision = 10^-6) are:\n",
      "Entered precision level reached with no. of iterations: 13\n",
      "[2.56, -3.12, 13.12, -1.3, 1.25]\n"
     ]
    }
   ],
   "source": [
    "# Reading the input matrix\n",
    "AB = Read.read_Mat(r\"Assg3 Input files/Assg3_Q3_AB.txt\")\n",
    "A = Read.read_Mat(r\"Assg3 Input files/Assg3_Q3_A.txt\")\n",
    "B = Read.read_Mat(r\"Assg3 Input files/Assg3_Q3_B.txt\")\n",
    "\n",
    "# Solving the system of equations using LU decomposition method\n",
    "Ans1 = Solve.LU_decomp_eqsolver(AB)\n",
    "print(\"The solutions for the given system of equations by LU decomposition method are:\")\n",
    "print(Ans1)\n",
    "print()\n",
    "\n",
    "# Solving the system of equations using Jacobi method (by making diagonally dominant)\n",
    "print(\"The solutions by using Jacobi method (with precision = 10^-6) are:\")\n",
    "Ans2 = Solve.Jacobi_eqsolver(A, B, 1e-6)\n",
    "print(Ans2)\n",
    "print()\n",
    "\n",
    "# Solving the system of equations using Gauss-Seidel method (by making diagonally dominant)\n",
    "print(\"The solutions by using Gauss-Seidel method (with precision = 10^-6) are:\")\n",
    "Ans3 = Solve.Gauss_Seidel_eqsolver(A, B, 1e-6)\n",
    "print(Ans3)\n",
    "\n",
    "# The solutions obtained by LU Decomposition method and Jacobi and Gauss-Seidel iterative\n",
    "# method for Question.3 seem to differ greatly from each other, though I could not find\n",
    "# any bugs/errors in the code upon further inspection."
   ]
  }
 ],
 "metadata": {
  "kernelspec": {
   "display_name": "Python 3 (ipykernel)",
   "language": "python",
   "name": "python3"
  },
  "language_info": {
   "codemirror_mode": {
    "name": "ipython",
    "version": 3
   },
   "file_extension": ".py",
   "mimetype": "text/x-python",
   "name": "python",
   "nbconvert_exporter": "python",
   "pygments_lexer": "ipython3",
   "version": "3.9.12"
  }
 },
 "nbformat": 4,
 "nbformat_minor": 5
}
