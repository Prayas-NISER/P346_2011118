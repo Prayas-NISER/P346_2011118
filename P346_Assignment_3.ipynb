{
 "cells": [
  {
   "cell_type": "markdown",
   "id": "7db76e91",
   "metadata": {},
   "source": [
    "# P346 Assignment-3"
   ]
  },
  {
   "cell_type": "markdown",
   "id": "e94dc0c0",
   "metadata": {},
   "source": [
    "## Question 1"
   ]
  },
  {
   "cell_type": "code",
   "execution_count": 1,
   "id": "dbfabcb9",
   "metadata": {},
   "outputs": [],
   "source": [
    "import Library.Read_matrix as Read\n",
    "import Library.Linear_eqsolver as Solve"
   ]
  },
  {
   "cell_type": "code",
   "execution_count": 2,
   "id": "5c7fbab6",
   "metadata": {},
   "outputs": [
    {
     "name": "stdout",
     "output_type": "stream",
     "text": [
      "The matrix after performing Gauss-Jordan elimination is given by:\n",
      "1.0, 0.0, 0.0, 0.0, 0.0, 0.0, -1.76\n",
      "0.0, 1.0, 0.0, 0.0, 0.0, 0.0, 0.9\n",
      "0.0, 0.0, 1.0, 0.0, 0.0, 0.0, 4.05\n",
      "0.0, 0.0, 0.0, 1.0, 0.0, 0.0, -1.62\n",
      "0.0, 0.0, 0.0, 0.0, 1.0, 0.0, 2.04\n",
      "0.0, 0.0, 0.0, 0.0, 0.0, 1.0, 0.15\n",
      "\n",
      "The solutions for the given system of equations are:\n",
      "\n",
      "-1.76\n",
      "\n",
      "0.9\n",
      "\n",
      "4.05\n",
      "\n",
      "-1.62\n",
      "\n",
      "2.04\n",
      "\n",
      "0.15\n",
      "\n",
      "The solutions for the given system of equations by LU decomposition method are:\n",
      "-1.76\n",
      "0.9\n",
      "4.05\n",
      "-1.62\n",
      "2.04\n",
      "0.15\n"
     ]
    }
   ],
   "source": [
    "# Reading the input matrix\n",
    "A = Read.read_Mat(\"Assg3_Q1.txt\")\n",
    "\n",
    "# Solving by reducing the matrix using Gauss-Jordan elimination\n",
    "Ans1 = Solve.Gauss_Jordan(A)\n",
    "print(\"The matrix after performing Gauss-Jordan elimination is given by:\")\n",
    "print(str(\"\\n\".join(str(Ans1).split(\"], [\")))[2:-2])\n",
    "print()\n",
    "Solve.Gauss_Jordan(A,\"solve\")\n",
    "\n",
    "# Solving the system of equations using LU decomposition method\n",
    "Ans2 = Solve.LU_decomp_eqsolver(A)\n",
    "print(\"The solutions for the given system of equations by LU decomposition method are:\")\n",
    "print(str(\"\\n\".join(str(Ans2).split(\"], [\")))[2:-2])"
   ]
  },
  {
   "cell_type": "markdown",
   "id": "0ab7233c",
   "metadata": {},
   "source": [
    "## Question 2"
   ]
  },
  {
   "cell_type": "code",
   "execution_count": 9,
   "id": "ed0c02b0",
   "metadata": {},
   "outputs": [
    {
     "name": "stdout",
     "output_type": "stream",
     "text": [
      "Entered matrix is symmetric\n",
      "The solutions for the given system of equations by using Cholesky decomposition method are:\n",
      "1.0\n",
      "1.0\n",
      "1.0\n",
      "1.0\n",
      "0.99\n",
      "1.0\n",
      "\n",
      "The solutions by using Gauss-Seidel method (with precision = 10^-6) are:\n",
      "Entered precision level reached with no. of iterations: 17\n",
      "[1.0, 1.0, 1.0, 1.0, 1.0, 1.0]\n"
     ]
    }
   ],
   "source": [
    "# Reading the input matrix\n",
    "AB = Read.read_Mat(\"Assg3_Q2_AB.txt\")\n",
    "A = Read.read_Mat(\"Assg3_Q2_A.txt\")\n",
    "B = Read.read_Mat(\"Assg3_Q2_B.txt\")\n",
    "\n",
    "# Checking for symmetric matrix\n",
    "print(Solve.check_sym(A))\n",
    "\n",
    "# Solving the system of equations using Cholesky decomposition method\n",
    "Ans1 = Solve.Cholesky_eqsolver(AB)\n",
    "print(\"The solutions for the given system of equations by using Cholesky decomposition method are:\")\n",
    "print(str(\"\\n\".join(str(Ans1).split(\"], [\")))[2:-2])\n",
    "print()\n",
    "\n",
    "# Solving the system of equations using Gauss-Seidel method\n",
    "print(\"The solutions by using Gauss-Seidel method (with precision = 10^-6) are:\")\n",
    "Ans2 = Solve.Gauss_Seidel_eqsolver(A, B, 1e-6)\n",
    "print(Ans2)"
   ]
  },
  {
   "cell_type": "markdown",
   "id": "86f335af",
   "metadata": {},
   "source": [
    "## Question 3"
   ]
  },
  {
   "cell_type": "code",
   "execution_count": null,
   "id": "877f2529",
   "metadata": {},
   "outputs": [],
   "source": []
  }
 ],
 "metadata": {
  "kernelspec": {
   "display_name": "Python 3 (ipykernel)",
   "language": "python",
   "name": "python3"
  },
  "language_info": {
   "codemirror_mode": {
    "name": "ipython",
    "version": 3
   },
   "file_extension": ".py",
   "mimetype": "text/x-python",
   "name": "python",
   "nbconvert_exporter": "python",
   "pygments_lexer": "ipython3",
   "version": "3.9.12"
  }
 },
 "nbformat": 4,
 "nbformat_minor": 5
}
