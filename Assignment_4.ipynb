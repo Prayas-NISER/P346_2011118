{
 "cells": [
  {
   "cell_type": "code",
   "execution_count": 1,
   "id": "fa958e5f",
   "metadata": {},
   "outputs": [],
   "source": [
    "import math\n",
    "import Library.Root_finder as Root"
   ]
  },
  {
   "cell_type": "markdown",
   "id": "0d6ac374",
   "metadata": {},
   "source": [
    "## Question 1"
   ]
  },
  {
   "cell_type": "code",
   "execution_count": 2,
   "id": "094fe59b",
   "metadata": {},
   "outputs": [
    {
     "data": {
      "text/plain": [
       "(1.5, 2.657625)"
      ]
     },
     "execution_count": 2,
     "metadata": {},
     "output_type": "execute_result"
    }
   ],
   "source": [
    "# Defining the given function\n",
    "f = lambda x: math.log(x/2) - math.sin(5*x/2)\n",
    "\n",
    "Root.Bracketing(f, 1.5, 2.5)"
   ]
  }
 ],
 "metadata": {
  "kernelspec": {
   "display_name": "Python 3 (ipykernel)",
   "language": "python",
   "name": "python3"
  },
  "language_info": {
   "codemirror_mode": {
    "name": "ipython",
    "version": 3
   },
   "file_extension": ".py",
   "mimetype": "text/x-python",
   "name": "python",
   "nbconvert_exporter": "python",
   "pygments_lexer": "ipython3",
   "version": "3.9.12"
  }
 },
 "nbformat": 4,
 "nbformat_minor": 5
}
