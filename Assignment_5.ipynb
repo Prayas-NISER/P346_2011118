{
 "cells": [
  {
   "cell_type": "markdown",
   "id": "9c48e7cc",
   "metadata": {},
   "source": [
    "# P346 Assignment - 5"
   ]
  },
  {
   "cell_type": "code",
   "execution_count": 2,
   "id": "48631d06",
   "metadata": {},
   "outputs": [],
   "source": [
    "import Library.Numerical_integrator as Integrate\n",
    "from math import *\n",
    "from tabulate import tabulate"
   ]
  },
  {
   "cell_type": "markdown",
   "id": "755c3cc5",
   "metadata": {},
   "source": [
    "## Question 1"
   ]
  },
  {
   "cell_type": "code",
   "execution_count": 3,
   "id": "1a4654ea",
   "metadata": {},
   "outputs": [
    {
     "name": "stdout",
     "output_type": "stream",
     "text": [
      "Actual value of integral = 3.6202\n",
      "Integration method      N = 10    N = 20    N = 30\n",
      "--------------------  --------  --------  --------\n",
      "Midpoint               3.61898   3.61988   3.62005\n",
      "Trapezoidal            3.62261   3.62079   3.62046\n",
      "Simpson                3.62025   3.62019   3.62019\n"
     ]
    }
   ],
   "source": [
    "# Given function to perform numerical integration\n",
    "f = lambda x: sqrt(1+(1/x))\n",
    "\n",
    "# Integrating by Midpoint method for N = 10,20,30\n",
    "mid10 = Integrate.Midpoint_int(f,1,4,10)\n",
    "mid20 = Integrate.Midpoint_int(f,1,4,20)\n",
    "mid30 = Integrate.Midpoint_int(f,1,4,30)\n",
    "\n",
    "# Integrating by Trapezoidal method for N = 10,20,30\n",
    "trapz10 = Integrate.Trapezoid_int(f,1,4,10)\n",
    "trapz20 = Integrate.Trapezoid_int(f,1,4,20)\n",
    "trapz30 = Integrate.Trapezoid_int(f,1,4,30)\n",
    "\n",
    "# Integrating by Simpson method for N = 10,20,30\n",
    "simp10 = Integrate.Simpson_int(f,1,4,10)\n",
    "simp20 = Integrate.Simpson_int(f,1,4,20)\n",
    "simp30 = Integrate.Simpson_int(f,1,4,30)\n",
    "\n",
    "# Presenting the data in tabular format\n",
    "print(\"Actual value of integral = 3.6202\")\n",
    "print(tabulate([[\"Midpoint\",mid10,mid20,mid30],\n",
    "                [\"Trapezoidal\",trapz10,trapz20,trapz30],\n",
    "                [\"Simpson\",simp10,simp20,simp30]],\n",
    "               headers=[\"Integration method\", \"N = 10\", \"N = 20\", \"N = 30\"]))\n"
   ]
  },
  {
   "cell_type": "markdown",
   "id": "2bd49972",
   "metadata": {},
   "source": [
    "## Question 2"
   ]
  },
  {
   "cell_type": "code",
   "execution_count": 5,
   "id": "58a476b0",
   "metadata": {},
   "outputs": [
    {
     "name": "stdout",
     "output_type": "stream",
     "text": [
      "Actual value of integral = 0.54535\n",
      "   N    Integral value\n",
      "----  ----------------\n",
      "  10          0.367326\n",
      "  20          0.542943\n",
      "  30          0.49287\n",
      "  40          0.501372\n",
      "  50          0.541897\n",
      "  60          0.531391\n",
      "  70          0.523658\n",
      "  80          0.564015\n",
      "  90          0.540605\n",
      " 100          0.547058\n",
      " 200          0.545944\n",
      " 300          0.551\n",
      " 400          0.557197\n",
      " 500          0.55546\n",
      " 600          0.551155\n",
      " 700          0.554386\n",
      " 800          0.549722\n",
      " 900          0.54446\n",
      "1000          0.55375\n"
     ]
    }
   ],
   "source": [
    "# Given function to perform numerical integration\n",
    "g = lambda x: (sin(x))**2\n",
    "\n",
    "# Tabulating the data for integral using Monte Carlo method with increasing N\n",
    "print(\"Actual value of integral = 0.54535\")\n",
    "print(tabulate([[10,Integrate.MonteCarlo_int(g,-1,1,10)],\n",
    "                [20,Integrate.MonteCarlo_int(g,-1,1,20)],\n",
    "                [30,Integrate.MonteCarlo_int(g,-1,1,30)],\n",
    "                [40,Integrate.MonteCarlo_int(g,-1,1,40)],\n",
    "                [50,Integrate.MonteCarlo_int(g,-1,1,50)],\n",
    "                [60,Integrate.MonteCarlo_int(g,-1,1,60)],\n",
    "                [70,Integrate.MonteCarlo_int(g,-1,1,70)],\n",
    "                [80,Integrate.MonteCarlo_int(g,-1,1,80)],\n",
    "                [90,Integrate.MonteCarlo_int(g,-1,1,90)],\n",
    "                [100,Integrate.MonteCarlo_int(g,-1,1,100)],\n",
    "                [200,Integrate.MonteCarlo_int(g,-1,1,200)],\n",
    "                [300,Integrate.MonteCarlo_int(g,-1,1,300)],\n",
    "                [400,Integrate.MonteCarlo_int(g,-1,1,400)],\n",
    "                [500,Integrate.MonteCarlo_int(g,-1,1,500)],\n",
    "                [600,Integrate.MonteCarlo_int(g,-1,1,600)],\n",
    "                [700,Integrate.MonteCarlo_int(g,-1,1,700)],\n",
    "                [800,Integrate.MonteCarlo_int(g,-1,1,800)],\n",
    "                [900,Integrate.MonteCarlo_int(g,-1,1,900)],\n",
    "                [1000,Integrate.MonteCarlo_int(g,-1,1,1000)]],\n",
    "                headers=[\"N\", \"Integral value\"]))\n"
   ]
  },
  {
   "cell_type": "markdown",
   "id": "722723ab",
   "metadata": {},
   "source": [
    "## Question 3"
   ]
  },
  {
   "cell_type": "code",
   "execution_count": null,
   "id": "db7ff04f",
   "metadata": {},
   "outputs": [],
   "source": []
  }
 ],
 "metadata": {
  "kernelspec": {
   "display_name": "Python 3 (ipykernel)",
   "language": "python",
   "name": "python3"
  },
  "language_info": {
   "codemirror_mode": {
    "name": "ipython",
    "version": 3
   },
   "file_extension": ".py",
   "mimetype": "text/x-python",
   "name": "python",
   "nbconvert_exporter": "python",
   "pygments_lexer": "ipython3",
   "version": "3.9.12"
  }
 },
 "nbformat": 4,
 "nbformat_minor": 5
}
