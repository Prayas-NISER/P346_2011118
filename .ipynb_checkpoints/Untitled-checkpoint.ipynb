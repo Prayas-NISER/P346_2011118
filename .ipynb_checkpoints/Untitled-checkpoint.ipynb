{
 "cells": [
  {
   "cell_type": "code",
   "execution_count": 1,
   "id": "cd14fa88",
   "metadata": {},
   "outputs": [],
   "source": [
    "import os"
   ]
  },
  {
   "cell_type": "code",
   "execution_count": 17,
   "id": "8c54ac37",
   "metadata": {},
   "outputs": [],
   "source": [
    "with open('./Assg3_Q1.txt') as f:\n",
    "    file = list(map(lambda x:list(map(lambda y:int(y),x)),\n",
    "                    list(map(lambda x: x[1:-1].split(\",\"),\n",
    "                    str(\"\".join(str(\"[\"+f.read()+\"]\").replace(\"\\n\",\"]@[\"))).split(\"@\"))))) "
   ]
  },
  {
   "cell_type": "code",
   "execution_count": 18,
   "id": "e78b5be4",
   "metadata": {},
   "outputs": [
    {
     "data": {
      "text/plain": [
       "[[1, -1, 4, 0, 2, 9, 19],\n",
       " [0, 5, -2, 7, 8, 4, 2],\n",
       " [1, 0, 5, 7, 3, -2, 13],\n",
       " [6, -1, 2, 3, 0, 8, -7],\n",
       " [-4, 2, 0, 5, -5, 3, -9],\n",
       " [0, 7, -1, 5, 4, -2, 2]]"
      ]
     },
     "execution_count": 18,
     "metadata": {},
     "output_type": "execute_result"
    }
   ],
   "source": [
    "file"
   ]
  },
  {
   "cell_type": "code",
   "execution_count": 2,
   "id": "33978ba4",
   "metadata": {},
   "outputs": [
    {
     "data": {
      "text/plain": [
       "['.git',\n",
       " '.ipynb_checkpoints',\n",
       " 'Assg3_Q1.txt',\n",
       " 'Assg3_Q2_A.txt',\n",
       " 'Assg3_Q2_B.txt',\n",
       " 'Assg3_Q2_X.txt',\n",
       " 'Assg3_Q3_A.txt',\n",
       " 'Assg3_Q3_B.txt',\n",
       " 'Library',\n",
       " 'P346_Assignment_1.ipynb',\n",
       " 'P346_Assignment_2.ipynb',\n",
       " 'P346_Assignment_3.ipynb',\n",
       " 'README.md',\n",
       " 'Untitled.ipynb']"
      ]
     },
     "execution_count": 2,
     "metadata": {},
     "output_type": "execute_result"
    }
   ],
   "source": [
    "os.listdir(\"./\")"
   ]
  }
 ],
 "metadata": {
  "kernelspec": {
   "display_name": "Python 3 (ipykernel)",
   "language": "python",
   "name": "python3"
  },
  "language_info": {
   "codemirror_mode": {
    "name": "ipython",
    "version": 3
   },
   "file_extension": ".py",
   "mimetype": "text/x-python",
   "name": "python",
   "nbconvert_exporter": "python",
   "pygments_lexer": "ipython3",
   "version": "3.9.12"
  }
 },
 "nbformat": 4,
 "nbformat_minor": 5
}
