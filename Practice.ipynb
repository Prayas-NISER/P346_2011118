{
 "cells": [
  {
   "cell_type": "code",
   "execution_count": null,
   "id": "47b76f53",
   "metadata": {},
   "outputs": [],
   "source": [
    "# Function for linear fitting\n",
    "from math import e, sqrt, log as ln\n",
    "def Linear_fit(xs, ys):\n",
    "    # y = m*x + c\n",
    "    mean_x = sum(xs) / len(xs)\n",
    "    mean_y = sum(ys) / len(ys)\n",
    "    m = sum((xs[i] - mean_x) * (ys[i] - mean_y) for i in range(len(xs))) / sum(\n",
    "        (xs[i] - mean_x) ** 2 for i in range(len(xs)))\n",
    "    c = mean_y - m * mean_x\n",
    "    return m, c\n",
    "\n",
    "# Function for exponential fitting\n",
    "def Exponential_fit(xs, ys):\n",
    "    # y = a * e**(p * x)\n",
    "    ys = list(map(ln, ys))\n",
    "    m, c = Linear_fit(xs, ys)\n",
    "    p = m\n",
    "    a = e ** c\n",
    "    return p, a\n",
    "\n"
   ]
  }
 ],
 "metadata": {
  "kernelspec": {
   "display_name": "Python 3 (ipykernel)",
   "language": "python",
   "name": "python3"
  },
  "language_info": {
   "codemirror_mode": {
    "name": "ipython",
    "version": 3
   },
   "file_extension": ".py",
   "mimetype": "text/x-python",
   "name": "python",
   "nbconvert_exporter": "python",
   "pygments_lexer": "ipython3",
   "version": "3.9.12"
  }
 },
 "nbformat": 4,
 "nbformat_minor": 5
}
